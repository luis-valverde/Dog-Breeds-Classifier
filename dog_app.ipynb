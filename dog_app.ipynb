{
 "cells": [
  {
   "cell_type": "markdown",
   "metadata": {},
   "source": [
    "# Convolutional Neural Networks\n",
    "\n",
    "## Project: Dog Breed Classifier\n",
    "\n",
    "---\n",
    "\n",
    "### Domain background\n",
    "\n",
    "Image recognition and classification has always been an important investigation field for computer vision. It has gained a lot of popularity and advances since the introduction of Deep Learning.\n",
    "Most investigations are focusing on using Convolutional Neural Networks (CNN)s to the fact that they are capable of recognizing and classifying a wide variety of objects and images. A lot of research has gone in to the training of CNNs on a variety of datasets, most focusing on the optimization of a particular network’s performance. \n",
    "\n",
    "### Problem Statement\n",
    "\n",
    "There are many different dog breeds around the world, and some of them with similar physical characteristics. Being able to recognize each dog breed is a challenging task even for humans, therefore the necessity of using machine learning for performing this task. A convolutional neural network (CNN) will be used to accomplish this challenge.\n",
    "The aim of this project is to build a pipeline to process real-world, user-supplied images. Given an image of a dog, the algorithm will identify an estimate of the canine’s breed. If supplied an image of a human, the code will identify the resembling dog breed. If neither a dog nor a human is detected, then an error message is output. \n",
    "\n",
    "Some sample output of the algorithm is provided below:\n",
    "\n",
    "![Sample Dog Output](images/sample_dog_output.png)\n",
    "\n",
    "![Sample Human Output](images/sample_human_output.png)\n",
    "\n",
    "\n",
    "### Project Workflow\n",
    "\n",
    "The project workflow to approach the solution is the following: \n",
    "\n",
    "* [Step 0](#step0): Define Imports\n",
    "* [Step 1](#step1): Import Datasets\n",
    "* [Step 2](#step2): Data Exploration - Human dataset\n",
    "* [Step 3](#step3): Data Exploration - Dog breeds dataset\n",
    "* [Step 4](#step4): Create Utilities Functions\n",
    "* [Step 5](#step5): Create Benchmark Model\n",
    "* [Step 6](#step6): Create Proposed Model\n",
    "* [Step 7](#step7): Model Refinement\n",
    "* [Step 8](#step8): Model Evaluation and Validation\n",
    "\n",
    "<a id='step0'></a>\n",
    "## Step 0: Define Imports\n",
    "\n",
    "All necessary imports for the projects are defined."
   ]
  },
  {
   "cell_type": "code",
   "execution_count": null,
   "metadata": {},
   "outputs": [],
   "source": [
    "# Define all the imports\n",
    "import cv2  \n",
    "import numpy as np\n",
    "import sys\n",
    "import torch\n",
    "import matplotlib.pyplot as plt\n",
    "import torch.nn.functional as F\n",
    "\n",
    "from glob import glob\n",
    "from torch import nn\n",
    "from torch import optim\n",
    "from torchvision import datasets, transforms, models\n",
    "from PIL import Image\n",
    "from PIL import ImageFile\n",
    "from sklearn.metrics import accuracy_score\n",
    "from sklearn.metrics import f1_score\n",
    "\n",
    "ImageFile.LOAD_TRUNCATED_IMAGES = True"
   ]
  }
 ],
 "metadata": {
  "kernelspec": {
   "display_name": "Python 3",
   "language": "python",
   "name": "python3"
  },
  "language_info": {
   "codemirror_mode": {
    "name": "ipython",
    "version": 3
   },
   "file_extension": ".py",
   "mimetype": "text/x-python",
   "name": "python",
   "nbconvert_exporter": "python",
   "pygments_lexer": "ipython3",
   "version": "3.7.4"
  }
 },
 "nbformat": 4,
 "nbformat_minor": 2
}
